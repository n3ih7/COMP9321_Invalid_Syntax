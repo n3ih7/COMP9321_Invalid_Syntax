{
 "cells": [
  {
   "cell_type": "code",
   "execution_count": 85,
   "metadata": {},
   "outputs": [
    {
     "name": "stdout",
     "output_type": "stream",
     "text": [
      "0.6840490797546013\n",
      "0.1035454299905072\n"
     ]
    },
    {
     "data": {
      "text/plain": [
       "['LR.model']"
      ]
     },
     "execution_count": 85,
     "metadata": {},
     "output_type": "execute_result"
    }
   ],
   "source": [
    "import pandas as pd\n",
    "import numpy as np\n",
    "import sklearn as skl\n",
    "import joblib\n",
    "\n",
    "usable_data = pd.read_csv('usable_data.csv')\n",
    "usable_data_labels = pd.read_csv('usable_data_labels.csv')\n",
    "negative_data = pd.read_csv('negative_data.csv')\n",
    "nega_data_labels = pd.read_csv('nega_data_labels.csv')\n",
    "\n",
    "for column in list(negative_data.columns[negative_data.isnull().sum() > 0]):\n",
    "    mean_val = negative_data[column].mean()\n",
    "    negative_data[column].fillna(mean_val, inplace=True)\n",
    "\n",
    "usable_data = usable_data.drop(['Unnamed: 0'], axis=1)\n",
    "usable_data_labels = usable_data_labels.drop(['Unnamed: 0'], axis=1)\n",
    "negative_data = negative_data.drop(['Unnamed: 0'], axis=1)\n",
    "nega_data_labels = nega_data_labels.drop(['Unnamed: 0'], axis=1)\n",
    "\n",
    "usable_data.rename(columns={'COUNTY_NAME':'Country_name'}, inplace = True)\n",
    "usable_data.rename(columns={'datetime':'Datetime'}, inplace = True)\n",
    "negative_data.rename(columns={'datetime':'Datetime'}, inplace = True)\n",
    "negative_data.rename(columns={'humiditie':'Humidity'}, inplace = True)\n",
    "negative_data.rename(columns={'pressure':'Pressure'}, inplace = True)\n",
    "negative_data.rename(columns={'temperature':'Temperature'}, inplace = True)\n",
    "negative_data.rename(columns={'wind_direction':'Wind_direction'}, inplace = True)\n",
    "negative_data.rename(columns={'wind_speed':'Wind_speed'}, inplace = True)\n",
    "\n",
    "train_data = pd.concat([usable_data, negative_data])\n",
    "train_data_labels = pd.concat([usable_data_labels, nega_data_labels])\n",
    "\n",
    "train_x = train_data.values[:, 2:]\n",
    "train_y = train_data_labels.values\n",
    "\n",
    "X_train, X_test, y_train, y_test = skl.model_selection.train_test_split(train_x, train_y, test_size=0.2, random_state=0)\n",
    "\n",
    "'''ss = skl.preprocessing.StandardScaler()\n",
    "X_train = ss.fit_transform(X_train)\n",
    "X_test = ss.transform(X_test)'''\n",
    "\n",
    "clf = skl.svm.SVC(kernel='linear', C=1, probability=True)\n",
    "svm = clf.fit(X_train, y_train.ravel())\n",
    "print(svm.score(X_test, y_test))\n",
    "joblib.dump(svm,'svm.model')\n",
    "\n",
    "lr = skl.linear_model.LinearRegression()\n",
    "LR = lr.fit(X_train,y_train.ravel())\n",
    "print(LR.score(X_test, y_test))\n",
    "joblib.dump(LR,'LR.model')\n",
    "\n",
    "print('Done!')"
   ]
  },
  {
   "cell_type": "code",
   "execution_count": null,
   "metadata": {},
   "outputs": [],
   "source": []
  }
 ],
 "metadata": {
  "kernelspec": {
   "display_name": "Python 3",
   "language": "python",
   "name": "python3"
  },
  "language_info": {
   "codemirror_mode": {
    "name": "ipython",
    "version": 3
   },
   "file_extension": ".py",
   "mimetype": "text/x-python",
   "name": "python",
   "nbconvert_exporter": "python",
   "pygments_lexer": "ipython3",
   "version": "3.6.9"
  }
 },
 "nbformat": 4,
 "nbformat_minor": 2
}
