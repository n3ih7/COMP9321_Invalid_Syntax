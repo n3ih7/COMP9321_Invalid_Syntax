{
 "cells": [
  {
   "cell_type": "code",
   "execution_count": 29,
   "metadata": {},
   "outputs": [
    {
     "data": {
      "text/plain": [
       "array([[0.41979935, 0.58020065]])"
      ]
     },
     "execution_count": 29,
     "metadata": {},
     "output_type": "execute_result"
    }
   ],
   "source": [
    "import joblib\n",
    "\n",
    "class Model:\n",
    "    def __init__(self, humidity, pressure, temperature, wind_direction, wind_speed):\n",
    "        self.h = humidity\n",
    "        self.p = pressure\n",
    "        self.t = temperature\n",
    "        self.wd = wind_direction\n",
    "        self.ws = wind_speed\n",
    "    \n",
    "    def predict(self):\n",
    "        obj = [self.h, self.p, self.t, self.wd, self.ws]\n",
    "        model = joblib.load('svm.model')\n",
    "        result = model.predict_proba([obj])\n",
    "        return result\n",
    "\n",
    "o_p = Model(78.70833333,1018.6666666666665,288.05527916666665,225.70833333333331,0.625)\n",
    "o_n = Model(69.16666667,1013.3333333333335,295.47041666666667,160.0,1.1666666666666667)\n",
    "\n",
    "print(o_p.predict())\n",
    "print(o_n.predict())\n"
   ]
  },
  {
   "cell_type": "code",
   "execution_count": null,
   "metadata": {},
   "outputs": [],
   "source": []
  }
 ],
 "metadata": {
  "kernelspec": {
   "display_name": "Python 3",
   "language": "python",
   "name": "python3"
  },
  "language_info": {
   "codemirror_mode": {
    "name": "ipython",
    "version": 3
   },
   "file_extension": ".py",
   "mimetype": "text/x-python",
   "name": "python",
   "nbconvert_exporter": "python",
   "pygments_lexer": "ipython3",
   "version": "3.6.9"
  }
 },
 "nbformat": 4,
 "nbformat_minor": 2
}
