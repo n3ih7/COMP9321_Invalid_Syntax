{
 "cells": [
  {
   "cell_type": "code",
   "execution_count": 59,
   "metadata": {},
   "outputs": [],
   "source": [
    "import pandas as pd\n",
    "import numpy as np\n",
    "\n",
    "usable_data = pd.read_csv('usable_data.csv')\n",
    "labels = np.ones((len(usable_data.values), 1), dtype=np.int)\n",
    "usable_data_labels = pd.DataFrame(labels)\n",
    "usable_data_labels.rename(columns={0:'Label'}, inplace = True)\n",
    "usable_data_labels.to_csv('usable_data_labels.csv')\n",
    "\n",
    "humidity_data = pd.read_csv('humidity.csv', index_col='datetime')\n",
    "pressure_data = pd.read_csv('pressure.csv', index_col='datetime')\n",
    "temperature_data = pd.read_csv('temperature.csv', index_col='datetime')\n",
    "wind_direction_data = pd.read_csv('wind_direction.csv', index_col='datetime')\n",
    "wind_speed_data = pd.read_csv('wind_speed.csv', index_col='datetime')\n",
    "\n",
    "countries = []\n",
    "humidities = []\n",
    "pressures = []\n",
    "temperatures = []\n",
    "wind_directions = []\n",
    "wind_speeds = []\n",
    "datetimes = []\n",
    "\n",
    "times_y = len(humidity_data.index)\n",
    "for y in range(times_y):\n",
    "    if humidity_data.index[y] not in usable_data['datetime']:\n",
    "        datetimes.append(humidity_data.index[y])\n",
    "datetimes = datetimes[-500:]\n",
    "\n",
    "index = usable_data.groupby('COUNTY_NAME').mean().index\n",
    "k = len(usable_data.groupby('COUNTY_NAME').mean().index)\n",
    "\n",
    "for i in range(500):\n",
    "    countries.append(index[i%k])\n",
    "    humidities.append(humidity_data.loc[datetimes[i], index[i%k]])\n",
    "    pressures.append(pressure_data.loc[datetimes[i], index[i%k]])\n",
    "    temperatures.append(temperature_data.loc[datetimes[i], index[i%k]])\n",
    "    wind_directions.append(wind_direction_data.loc[datetimes[i], index[i%k]])\n",
    "    wind_speeds.append(wind_speed_data.loc[datetimes[i], index[i%k]])\n",
    "\n",
    "negative_data = pd.DataFrame(countries)\n",
    "negative_data.rename(columns={0:'Country_name'}, inplace = True)\n",
    "negative_data['datetime'] = datetimes\n",
    "negative_data['humiditie'] = humidities\n",
    "negative_data['pressure'] = pressures\n",
    "negative_data['temperature'] = temperatures\n",
    "negative_data['wind_direction'] = wind_directions\n",
    "negative_data['wind_speed'] = wind_speeds\n",
    "negative_data.to_csv('negative_data.csv')\n",
    "\n",
    "nega_labels = np.zeros((500, 1), dtype=np.int)\n",
    "nega_data_labels = pd.DataFrame(nega_labels)\n",
    "nega_data_labels.rename(columns={0:'Label'}, inplace = True)\n",
    "nega_data_labels = nega_data_labels.replace(to_replace=0, value=-1)\n",
    "nega_data_labels.to_csv('nega_data_labels.csv')"
   ]
  },
  {
   "cell_type": "code",
   "execution_count": null,
   "metadata": {},
   "outputs": [],
   "source": []
  }
 ],
 "metadata": {
  "kernelspec": {
   "display_name": "Python 3",
   "language": "python",
   "name": "python3"
  },
  "language_info": {
   "codemirror_mode": {
    "name": "ipython",
    "version": 3
   },
   "file_extension": ".py",
   "mimetype": "text/x-python",
   "name": "python",
   "nbconvert_exporter": "python",
   "pygments_lexer": "ipython3",
   "version": "3.6.9"
  }
 },
 "nbformat": 4,
 "nbformat_minor": 2
}
